{
 "cells": [
  {
   "cell_type": "code",
   "execution_count": 1,
   "metadata": {},
   "outputs": [],
   "source": [
    "import pandas as pd\n",
    "import requests\n",
    "import unicodedata\n",
    "from bs4 import BeautifulSoup as soup\n",
    "from datetime import datetime\n",
    "\n",
    "raw_path = '../raw'"
   ]
  },
  {
   "cell_type": "code",
   "execution_count": 20,
   "metadata": {},
   "outputs": [],
   "source": [
    "df = pd.read_excel(raw_path + \"/HABV_93_Ehrenamtskartei.xlsx\", names=['signatur','nachname','vorname','geburt','tod','umfang'], dtype={'signatur':'string','nachname':'string','vorname':'string','geburt':'string','tod':'string','umfang':'string',})\n",
    "#df = pd.read_csv(raw_path + \"/ehrenamtskartei.csv\", dtype={'signatur':'string','nachname':'string','vorname':'string','geburt':'string','tod':'string','umfang':'string',})\n",
    "df = df.apply(lambda x: x.str.strip() if (x.dtype == \"object\") or (x.dtype == \"string\") else x)"
   ]
  },
  {
   "cell_type": "markdown",
   "metadata": {},
   "source": [
    "# GND-Suche"
   ]
  },
  {
   "cell_type": "code",
   "execution_count": 21,
   "metadata": {},
   "outputs": [],
   "source": [
    "\n",
    "base_url = 'https://services.dnb.de/sru/authorities?'\n",
    "params = {'recordSchema' : 'MARC21-xml',\n",
    "          'operation': 'searchRetrieve',\n",
    "          'version': '1.1',\n",
    "          'maximumRecords': '100',\n",
    "         }"
   ]
  },
  {
   "cell_type": "code",
   "execution_count": 22,
   "metadata": {},
   "outputs": [],
   "source": [
    "\n",
    "def gnd_abfrage(row):\n",
    "    params.update({'query': f'PER = \"{row.nachname}, {row.vorname}\" AND BBG=Tp*'})\n",
    "    response = requests.get(base_url, params=params)\n",
    "    response_xml = soup(response.content, features=\"xml\")    \n",
    "    try:\n",
    "        matches = list()\n",
    "        for record in response_xml.find_all('record', {'type':'Authority'}):\n",
    "            record_match = dict()\n",
    "            #idn bestimmen\n",
    "            try:\n",
    "                record_match['idn'] = record.find('controlfield', {'tag': '001'}).string.strip()\n",
    "            except:\n",
    "                record_match['idn'] = None\n",
    "\n",
    "            # exaktes datum datx finden\n",
    "            try:\n",
    "                datx = record.find('subfield', {'code': '4'}, string=\"datx\").parent.find('subfield', {'code': 'a'}).string\n",
    "            except:\n",
    "                datx = ''\n",
    "            \n",
    "            # jahresdatum in 100 finden\n",
    "            try:\n",
    "                datl_100 = record.find('datafield', {'tag': '100'}).find('subfield', {'code': 'd'}).string\n",
    "            except:\n",
    "                datl_100 = ''\n",
    "            \n",
    "            # jahresdatum in 548 datl finden\n",
    "            try:\n",
    "                datl_548 = record.find('subfield', {'code': '4'}, string=\"datl\").parent.find('subfield', {'code': 'a'}).string\n",
    "            except:\n",
    "                datl_548 = ''\n",
    "\n",
    "            #setzen von datum_match, wenn geburtsjahre übereinstimmen\n",
    "\n",
    "            if datx == f\"{row.geburt}-{row.tod}\":\n",
    "                record_match['datum_match'] = True\n",
    "            elif datl_100.split('-')[0] == row.geburt[-4] and datl_100.split('-')[1] == row.tod[-4]:\n",
    "                record_match['datum_match'] = True\n",
    "            elif datl_548.split('-')[0] == row.geburt[-4] and datl_548.split('-')[1] == row.tod[-4]:\n",
    "                record_match['datum_match'] = True\n",
    "            else:\n",
    "                record_match['datum_match'] = False\n",
    "\n",
    "            matches.append(record_match)\n",
    "        \n",
    "        return matches\n",
    "    except Exception as e:\n",
    "        return \"fehler %r\" % e"
   ]
  },
  {
   "cell_type": "code",
   "execution_count": 23,
   "metadata": {},
   "outputs": [],
   "source": [
    "def gnd_auswertung(matches):\n",
    "    if type(matches) == list:\n",
    "        return [match['idn'] for match in matches if match['datum_match'] == True]\n",
    "        # return ', '.join([match['idn'] for match in matches if match['datum_match'] == True])"
   ]
  },
  {
   "cell_type": "code",
   "execution_count": 24,
   "metadata": {},
   "outputs": [],
   "source": [
    "# idn abfrage starten und ergebnisse in neue spalte matches schreiben\n",
    "df['matches'] = df.apply(gnd_abfrage, axis=1)"
   ]
  },
  {
   "cell_type": "code",
   "execution_count": 25,
   "metadata": {},
   "outputs": [],
   "source": [
    "# auswertung starten und matchende idns in neue spalte idns schreiben\n",
    "df['idns'] = df.matches.apply(gnd_auswertung)"
   ]
  },
  {
   "cell_type": "code",
   "execution_count": 26,
   "metadata": {},
   "outputs": [],
   "source": [
    "def pica_schreiben(row):\n",
    "    pica = f\"\"\"0500 Qd\n",
    "0501 Text$btxt\n",
    "0502 ohne Hilfsmittel zu benutzen$bn\n",
    "0503 Blatt$bnb\n",
    "0600 yy\n",
    "\"\"\"\n",
    "    if pd.notna(row.tod):\n",
    "        pica += f\"1100 {row.tod[-4:]}$n[nicht nach {row.tod[-4:]}]\\n\"\n",
    "    else:\n",
    "        pica += f\"1100 \\n\"\n",
    "\n",
    "    pica += f\"\"\"1130 TB-papier\n",
    "1130 !040445224!\n",
    "1131 !041466098!\n",
    "1132 a1-analog;f1-text;f2-blatt;v-cont\n",
    "1500 /1ger\n",
    "1700 /1XA-DE\n",
    "3100 !000073369!$BZusammenstellender$4com\n",
    "4000 Ehrenamtsakte {row.vorname} {row.nachname}\n",
    "4019 Ehrenamtsakte$Bobja\n",
    "4060 {row.umfang}\n",
    "4105 !1061153886!\n",
    "4700 |BSM|\n",
    "5100 !000073369!\n",
    "\"\"\"\n",
    "    if len(row.idns) > 2:\n",
    "        pica += f\"5101 !{row.idns[2:-2]}!\\n\"\n",
    "\n",
    "    \n",
    "    pica += f\"\"\"5590 [Objektgattung]\n",
    "5590 !040009254!\n",
    "7001 {now.strftime('%d-%m-%y')} : x\n",
    "4800 !009033645!\n",
    "6710 !1265505004!$l{row.signatur.split(\",\")[1]}\n",
    "7100 HA/BV 93,{row.signatur.split(\",\")[1]} @ m\n",
    "7109 !!DBSM/S!! ; HA/BV 93,{row.signatur.split(\",\")[1]}\n",
    "\\t\\n\"\"\"\n",
    "    return pica\n"
   ]
  },
  {
   "cell_type": "code",
   "execution_count": 55,
   "metadata": {},
   "outputs": [
    {
     "ename": "AttributeError",
     "evalue": "'str' object has no attribute 'str'",
     "output_type": "error",
     "traceback": [
      "\u001b[0;31m---------------------------------------------------------------------------\u001b[0m",
      "\u001b[0;31mAttributeError\u001b[0m                            Traceback (most recent call last)",
      "\u001b[1;32m/home/andre/Projekte/ehrenamtskartei/script/import.ipynb Zelle 10\u001b[0m in \u001b[0;36m<cell line: 2>\u001b[0;34m()\u001b[0m\n\u001b[1;32m      <a href='vscode-notebook-cell:/home/andre/Projekte/ehrenamtskartei/script/import.ipynb#X20sZmlsZQ%3D%3D?line=0'>1</a>\u001b[0m now \u001b[39m=\u001b[39m datetime\u001b[39m.\u001b[39mnow()\n\u001b[1;32m      <a href='vscode-notebook-cell:/home/andre/Projekte/ehrenamtskartei/script/import.ipynb#X20sZmlsZQ%3D%3D?line=1'>2</a>\u001b[0m \u001b[39mfor\u001b[39;00m index, row \u001b[39min\u001b[39;00m df[:\u001b[39m5\u001b[39m]\u001b[39m.\u001b[39miterrows():\n\u001b[0;32m----> <a href='vscode-notebook-cell:/home/andre/Projekte/ehrenamtskartei/script/import.ipynb#X20sZmlsZQ%3D%3D?line=2'>3</a>\u001b[0m     \u001b[39mprint\u001b[39m(pica_schreiben(row))\n",
      "\u001b[1;32m/home/andre/Projekte/ehrenamtskartei/script/import.ipynb Zelle 10\u001b[0m in \u001b[0;36mpica_schreiben\u001b[0;34m(row)\u001b[0m\n\u001b[1;32m      <a href='vscode-notebook-cell:/home/andre/Projekte/ehrenamtskartei/script/import.ipynb#X20sZmlsZQ%3D%3D?line=0'>1</a>\u001b[0m \u001b[39mdef\u001b[39;00m \u001b[39mpica_schreiben\u001b[39m(row):\n\u001b[1;32m      <a href='vscode-notebook-cell:/home/andre/Projekte/ehrenamtskartei/script/import.ipynb#X20sZmlsZQ%3D%3D?line=1'>2</a>\u001b[0m     pica \u001b[39m=\u001b[39m \u001b[39mf\u001b[39m\u001b[39m\"\"\"\u001b[39m\u001b[39m0500 Qd\u001b[39m\n\u001b[1;32m      <a href='vscode-notebook-cell:/home/andre/Projekte/ehrenamtskartei/script/import.ipynb#X20sZmlsZQ%3D%3D?line=2'>3</a>\u001b[0m \u001b[39m0501 Text$btxt\u001b[39m\n\u001b[1;32m      <a href='vscode-notebook-cell:/home/andre/Projekte/ehrenamtskartei/script/import.ipynb#X20sZmlsZQ%3D%3D?line=3'>4</a>\u001b[0m \u001b[39m0502 ohne Hilfsmittel zu benutzen$bn\u001b[39m\n\u001b[0;32m   (...)\u001b[0m\n\u001b[1;32m     <a href='vscode-notebook-cell:/home/andre/Projekte/ehrenamtskartei/script/import.ipynb#X20sZmlsZQ%3D%3D?line=19'>20</a>\u001b[0m \u001b[39m5100 !000073369!\u001b[39m\n\u001b[1;32m     <a href='vscode-notebook-cell:/home/andre/Projekte/ehrenamtskartei/script/import.ipynb#X20sZmlsZQ%3D%3D?line=20'>21</a>\u001b[0m \u001b[39m\"\"\"\u001b[39m\n\u001b[0;32m---> <a href='vscode-notebook-cell:/home/andre/Projekte/ehrenamtskartei/script/import.ipynb#X20sZmlsZQ%3D%3D?line=21'>22</a>\u001b[0m     \u001b[39mif\u001b[39;00m row\u001b[39m.\u001b[39;49midns\u001b[39m.\u001b[39;49mstr\u001b[39m.\u001b[39mlen() \u001b[39m>\u001b[39m \u001b[39m2\u001b[39m:\n\u001b[1;32m     <a href='vscode-notebook-cell:/home/andre/Projekte/ehrenamtskartei/script/import.ipynb#X20sZmlsZQ%3D%3D?line=22'>23</a>\u001b[0m         pica \u001b[39m+\u001b[39m\u001b[39m=\u001b[39m \u001b[39mf\u001b[39m\u001b[39m\"\u001b[39m\u001b[39m5101 !\u001b[39m\u001b[39m{\u001b[39;00mrow\u001b[39m.\u001b[39midns[\u001b[39m2\u001b[39m:\u001b[39m-\u001b[39m\u001b[39m2\u001b[39m]\u001b[39m}\u001b[39;00m\u001b[39m!\u001b[39m\u001b[39m\\n\u001b[39;00m\u001b[39m\"\u001b[39m\n\u001b[1;32m     <a href='vscode-notebook-cell:/home/andre/Projekte/ehrenamtskartei/script/import.ipynb#X20sZmlsZQ%3D%3D?line=24'>25</a>\u001b[0m     pica \u001b[39m+\u001b[39m\u001b[39m=\u001b[39m \u001b[39mf\u001b[39m\u001b[39m\"\"\"\u001b[39m\n\u001b[1;32m     <a href='vscode-notebook-cell:/home/andre/Projekte/ehrenamtskartei/script/import.ipynb#X20sZmlsZQ%3D%3D?line=25'>26</a>\u001b[0m \u001b[39m5590 [Objektgattung]\u001b[39m\n\u001b[1;32m     <a href='vscode-notebook-cell:/home/andre/Projekte/ehrenamtskartei/script/import.ipynb#X20sZmlsZQ%3D%3D?line=26'>27</a>\u001b[0m \u001b[39m5590 !040009254!\u001b[39m\n\u001b[0;32m   (...)\u001b[0m\n\u001b[1;32m     <a href='vscode-notebook-cell:/home/andre/Projekte/ehrenamtskartei/script/import.ipynb#X20sZmlsZQ%3D%3D?line=31'>32</a>\u001b[0m \u001b[39m7109 !!DBSM/S!! ; HA/BV 93,\u001b[39m\u001b[39m{\u001b[39;00mrow\u001b[39m.\u001b[39msignatur\u001b[39m.\u001b[39msplit(\u001b[39m\"\u001b[39m\u001b[39m,\u001b[39m\u001b[39m\"\u001b[39m)[\u001b[39m1\u001b[39m]\u001b[39m}\u001b[39;00m\n\u001b[1;32m     <a href='vscode-notebook-cell:/home/andre/Projekte/ehrenamtskartei/script/import.ipynb#X20sZmlsZQ%3D%3D?line=32'>33</a>\u001b[0m \u001b[39m\\t\u001b[39;00m\u001b[39m\\n\u001b[39;00m\u001b[39m\"\"\"\u001b[39m\n",
      "\u001b[0;31mAttributeError\u001b[0m: 'str' object has no attribute 'str'"
     ]
    }
   ],
   "source": [
    "now = datetime.now()\n",
    "for index, row in df[:5].iterrows():\n",
    "    print(pica_schreiben(row))"
   ]
  },
  {
   "cell_type": "code",
   "execution_count": 27,
   "metadata": {},
   "outputs": [],
   "source": [
    "now = datetime.now()\n",
    "with open(f\"../dat/ehrenamstkartei-{now.strftime('%y-%m-%d-%H-%M-%S')}.dat\",\"w\") as f:\n",
    "    with open(f\"../dat/ehrenamstkartei-recent.dat\", 'w') as f2:\n",
    "        for index, row in df.iterrows():\n",
    "            f.write(pica_schreiben(row))\n",
    "            f2.write(pica_schreiben(row))\n",
    "\n",
    "with open(f\"../dat/ehrenamstkartei-recent-sample.dat\", 'w') as f:\n",
    "    for index, row in df.sample(5).iterrows():\n",
    "        f.write(pica_schreiben(row))"
   ]
  }
 ],
 "metadata": {
  "kernelspec": {
   "display_name": "Python 3.10.7 ('base-K0tRBB7f-py3.10')",
   "language": "python",
   "name": "python3"
  },
  "language_info": {
   "codemirror_mode": {
    "name": "ipython",
    "version": 3
   },
   "file_extension": ".py",
   "mimetype": "text/x-python",
   "name": "python",
   "nbconvert_exporter": "python",
   "pygments_lexer": "ipython3",
   "version": "3.10.7"
  },
  "orig_nbformat": 4,
  "vscode": {
   "interpreter": {
    "hash": "17a4469d8b22bc7150161bba090999ebb3f50738e3290d8b3a28782e2c67258b"
   }
  }
 },
 "nbformat": 4,
 "nbformat_minor": 2
}
