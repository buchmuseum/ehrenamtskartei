{
 "cells": [
  {
   "cell_type": "code",
   "execution_count": 34,
   "metadata": {},
   "outputs": [],
   "source": [
    "import pandas as pd\n",
    "import requests\n",
    "import unicodedata\n",
    "from bs4 import BeautifulSoup as soup\n",
    "from datetime import datetime\n",
    "\n",
    "raw_path = '../raw'"
   ]
  },
  {
   "cell_type": "code",
   "execution_count": 39,
   "metadata": {},
   "outputs": [],
   "source": [
    "# df = pd.read_excel(raw_path + \"/HABV_93_Ehrenamtskartei.xlsx\", names=['signatur','nachname','vorname','geburt','tod','umfang'], dtype={'signatur':'string','nachname':'string','vorname':'string','geburt':'string','tod':'string','umfang':'string',})\n",
    "df = pd.read_csv(raw_path + \"/ehrenamtskartei.csv\", dtype={'signatur':'string','nachname':'string','vorname':'string','geburt':'string','tod':'string','umfang':'string',})\n",
    "df = df.apply(lambda x: x.str.strip() if (x.dtype == \"object\") or (x.dtype == \"string\") else x)"
   ]
  },
  {
   "cell_type": "markdown",
   "metadata": {},
   "source": [
    "# GND-Suche"
   ]
  },
  {
   "cell_type": "code",
   "execution_count": 9,
   "metadata": {},
   "outputs": [],
   "source": [
    "\n",
    "base_url = 'https://services.dnb.de/sru/authorities?'\n",
    "params = {'recordSchema' : 'MARC21-xml',\n",
    "          'operation': 'searchRetrieve',\n",
    "          'version': '1.1',\n",
    "          'maximumRecords': '100',\n",
    "         }"
   ]
  },
  {
   "cell_type": "code",
   "execution_count": 17,
   "metadata": {},
   "outputs": [],
   "source": [
    "\n",
    "def gnd_abfrage(row):\n",
    "    params.update({'query': f'PER = \"{row.nachname}, {row.vorname}\" AND BBG=Tp*'})\n",
    "    response = requests.get(base_url, params=params)\n",
    "    response_xml = soup(response.content, features=\"xml\")    \n",
    "    try:\n",
    "        matches = list()\n",
    "        for record in response_xml.find_all('record', {'type':'Authority'}):\n",
    "            record_match = dict()\n",
    "            #idn bestimmen\n",
    "            try:\n",
    "                record_match['idn'] = record.find('controlfield', {'tag': '001'}).string.strip()\n",
    "            except:\n",
    "                record_match['idn'] = None\n",
    "\n",
    "            # exaktes datum datx finden\n",
    "            try:\n",
    "                datx = record.find('subfield', {'code': '4'}, string=\"datx\").parent.find('subfield', {'code': 'a'}).string\n",
    "            except:\n",
    "                datx = ''\n",
    "            \n",
    "            # jahresdatum in 100 finden\n",
    "            try:\n",
    "                datl_100 = record.find('datafield', {'tag': '100'}).find('subfield', {'code': 'd'}).string\n",
    "            except:\n",
    "                datl_100 = ''\n",
    "            \n",
    "            # jahresdatum in 548 datl finden\n",
    "            try:\n",
    "                datl_548 = record.find('subfield', {'code': '4'}, string=\"datl\").parent.find('subfield', {'code': 'a'}).string\n",
    "            except:\n",
    "                datl_548 = ''\n",
    "\n",
    "            #setzen von datum_match, wenn geburtsjahre übereinstimmen\n",
    "\n",
    "            if datx == f\"{row.geburt}-{row.tod}\":\n",
    "                record_match['datum_match'] = True\n",
    "            elif datl_100.split('-')[0] == row.geburt[-4] and datl_100.split('-')[1] == row.tod[-4]:\n",
    "                record_match['datum_match'] = True\n",
    "            elif datl_548.split('-')[0] == row.geburt[-4] and datl_548.split('-')[1] == row.tod[-4]:\n",
    "                record_match['datum_match'] = True\n",
    "            else:\n",
    "                record_match['datum_match'] = False\n",
    "\n",
    "            matches.append(record_match)\n",
    "        \n",
    "        return matches\n",
    "    except Exception as e:\n",
    "        return \"fehler %r\" % e"
   ]
  },
  {
   "cell_type": "code",
   "execution_count": 21,
   "metadata": {},
   "outputs": [],
   "source": [
    "def gnd_auswertung(matches):\n",
    "    if type(matches) == list:\n",
    "        return [match['idn'] for match in matches if match['datum_match'] == True]"
   ]
  },
  {
   "cell_type": "code",
   "execution_count": 22,
   "metadata": {},
   "outputs": [
    {
     "ename": "KeyboardInterrupt",
     "evalue": "",
     "output_type": "error",
     "traceback": [
      "\u001b[0;31m---------------------------------------------------------------------------\u001b[0m",
      "\u001b[0;31mKeyboardInterrupt\u001b[0m                         Traceback (most recent call last)",
      "\u001b[1;32m/home/andre/Projekte/ehrenamtskartei/script/import.ipynb Zelle 7\u001b[0m in \u001b[0;36m<cell line: 2>\u001b[0;34m()\u001b[0m\n\u001b[1;32m      <a href='vscode-notebook-cell:/home/andre/Projekte/ehrenamtskartei/script/import.ipynb#X10sZmlsZQ%3D%3D?line=0'>1</a>\u001b[0m \u001b[39m# idn abfrage starten und ergebnisse in neue spalte matches schreiben\u001b[39;00m\n\u001b[0;32m----> <a href='vscode-notebook-cell:/home/andre/Projekte/ehrenamtskartei/script/import.ipynb#X10sZmlsZQ%3D%3D?line=1'>2</a>\u001b[0m df[\u001b[39m'\u001b[39m\u001b[39mmatches\u001b[39m\u001b[39m'\u001b[39m] \u001b[39m=\u001b[39m df\u001b[39m.\u001b[39;49mapply(gnd_abfrage, axis\u001b[39m=\u001b[39;49m\u001b[39m1\u001b[39;49m)\n",
      "File \u001b[0;32m~/.cache/pypoetry/virtualenvs/base-_zdkNckr-py3.10/lib64/python3.10/site-packages/pandas/core/frame.py:8845\u001b[0m, in \u001b[0;36mDataFrame.apply\u001b[0;34m(self, func, axis, raw, result_type, args, **kwargs)\u001b[0m\n\u001b[1;32m   8834\u001b[0m \u001b[39mfrom\u001b[39;00m \u001b[39mpandas\u001b[39;00m\u001b[39m.\u001b[39;00m\u001b[39mcore\u001b[39;00m\u001b[39m.\u001b[39;00m\u001b[39mapply\u001b[39;00m \u001b[39mimport\u001b[39;00m frame_apply\n\u001b[1;32m   8836\u001b[0m op \u001b[39m=\u001b[39m frame_apply(\n\u001b[1;32m   8837\u001b[0m     \u001b[39mself\u001b[39m,\n\u001b[1;32m   8838\u001b[0m     func\u001b[39m=\u001b[39mfunc,\n\u001b[0;32m   (...)\u001b[0m\n\u001b[1;32m   8843\u001b[0m     kwargs\u001b[39m=\u001b[39mkwargs,\n\u001b[1;32m   8844\u001b[0m )\n\u001b[0;32m-> 8845\u001b[0m \u001b[39mreturn\u001b[39;00m op\u001b[39m.\u001b[39;49mapply()\u001b[39m.\u001b[39m__finalize__(\u001b[39mself\u001b[39m, method\u001b[39m=\u001b[39m\u001b[39m\"\u001b[39m\u001b[39mapply\u001b[39m\u001b[39m\"\u001b[39m)\n",
      "File \u001b[0;32m~/.cache/pypoetry/virtualenvs/base-_zdkNckr-py3.10/lib64/python3.10/site-packages/pandas/core/apply.py:733\u001b[0m, in \u001b[0;36mFrameApply.apply\u001b[0;34m(self)\u001b[0m\n\u001b[1;32m    730\u001b[0m \u001b[39melif\u001b[39;00m \u001b[39mself\u001b[39m\u001b[39m.\u001b[39mraw:\n\u001b[1;32m    731\u001b[0m     \u001b[39mreturn\u001b[39;00m \u001b[39mself\u001b[39m\u001b[39m.\u001b[39mapply_raw()\n\u001b[0;32m--> 733\u001b[0m \u001b[39mreturn\u001b[39;00m \u001b[39mself\u001b[39;49m\u001b[39m.\u001b[39;49mapply_standard()\n",
      "File \u001b[0;32m~/.cache/pypoetry/virtualenvs/base-_zdkNckr-py3.10/lib64/python3.10/site-packages/pandas/core/apply.py:857\u001b[0m, in \u001b[0;36mFrameApply.apply_standard\u001b[0;34m(self)\u001b[0m\n\u001b[1;32m    856\u001b[0m \u001b[39mdef\u001b[39;00m \u001b[39mapply_standard\u001b[39m(\u001b[39mself\u001b[39m):\n\u001b[0;32m--> 857\u001b[0m     results, res_index \u001b[39m=\u001b[39m \u001b[39mself\u001b[39;49m\u001b[39m.\u001b[39;49mapply_series_generator()\n\u001b[1;32m    859\u001b[0m     \u001b[39m# wrap results\u001b[39;00m\n\u001b[1;32m    860\u001b[0m     \u001b[39mreturn\u001b[39;00m \u001b[39mself\u001b[39m\u001b[39m.\u001b[39mwrap_results(results, res_index)\n",
      "File \u001b[0;32m~/.cache/pypoetry/virtualenvs/base-_zdkNckr-py3.10/lib64/python3.10/site-packages/pandas/core/apply.py:873\u001b[0m, in \u001b[0;36mFrameApply.apply_series_generator\u001b[0;34m(self)\u001b[0m\n\u001b[1;32m    870\u001b[0m \u001b[39mwith\u001b[39;00m option_context(\u001b[39m\"\u001b[39m\u001b[39mmode.chained_assignment\u001b[39m\u001b[39m\"\u001b[39m, \u001b[39mNone\u001b[39;00m):\n\u001b[1;32m    871\u001b[0m     \u001b[39mfor\u001b[39;00m i, v \u001b[39min\u001b[39;00m \u001b[39menumerate\u001b[39m(series_gen):\n\u001b[1;32m    872\u001b[0m         \u001b[39m# ignore SettingWithCopy here in case the user mutates\u001b[39;00m\n\u001b[0;32m--> 873\u001b[0m         results[i] \u001b[39m=\u001b[39m \u001b[39mself\u001b[39;49m\u001b[39m.\u001b[39;49mf(v)\n\u001b[1;32m    874\u001b[0m         \u001b[39mif\u001b[39;00m \u001b[39misinstance\u001b[39m(results[i], ABCSeries):\n\u001b[1;32m    875\u001b[0m             \u001b[39m# If we have a view on v, we need to make a copy because\u001b[39;00m\n\u001b[1;32m    876\u001b[0m             \u001b[39m#  series_generator will swap out the underlying data\u001b[39;00m\n\u001b[1;32m    877\u001b[0m             results[i] \u001b[39m=\u001b[39m results[i]\u001b[39m.\u001b[39mcopy(deep\u001b[39m=\u001b[39m\u001b[39mFalse\u001b[39;00m)\n",
      "\u001b[1;32m/home/andre/Projekte/ehrenamtskartei/script/import.ipynb Zelle 7\u001b[0m in \u001b[0;36mgnd_abfrage\u001b[0;34m(row)\u001b[0m\n\u001b[1;32m      <a href='vscode-notebook-cell:/home/andre/Projekte/ehrenamtskartei/script/import.ipynb#X10sZmlsZQ%3D%3D?line=0'>1</a>\u001b[0m \u001b[39mdef\u001b[39;00m \u001b[39mgnd_abfrage\u001b[39m(row):\n\u001b[1;32m      <a href='vscode-notebook-cell:/home/andre/Projekte/ehrenamtskartei/script/import.ipynb#X10sZmlsZQ%3D%3D?line=1'>2</a>\u001b[0m     params\u001b[39m.\u001b[39mupdate({\u001b[39m'\u001b[39m\u001b[39mquery\u001b[39m\u001b[39m'\u001b[39m: \u001b[39mf\u001b[39m\u001b[39m'\u001b[39m\u001b[39mPER = \u001b[39m\u001b[39m\"\u001b[39m\u001b[39m{\u001b[39;00mrow\u001b[39m.\u001b[39mnachname\u001b[39m}\u001b[39;00m\u001b[39m, \u001b[39m\u001b[39m{\u001b[39;00mrow\u001b[39m.\u001b[39mvorname\u001b[39m}\u001b[39;00m\u001b[39m\"\u001b[39m\u001b[39m AND BBG=Tp*\u001b[39m\u001b[39m'\u001b[39m})\n\u001b[0;32m----> <a href='vscode-notebook-cell:/home/andre/Projekte/ehrenamtskartei/script/import.ipynb#X10sZmlsZQ%3D%3D?line=2'>3</a>\u001b[0m     response \u001b[39m=\u001b[39m requests\u001b[39m.\u001b[39;49mget(base_url, params\u001b[39m=\u001b[39;49mparams)\n\u001b[1;32m      <a href='vscode-notebook-cell:/home/andre/Projekte/ehrenamtskartei/script/import.ipynb#X10sZmlsZQ%3D%3D?line=3'>4</a>\u001b[0m     response_xml \u001b[39m=\u001b[39m soup(response\u001b[39m.\u001b[39mcontent, features\u001b[39m=\u001b[39m\u001b[39m\"\u001b[39m\u001b[39mxml\u001b[39m\u001b[39m\"\u001b[39m)    \n\u001b[1;32m      <a href='vscode-notebook-cell:/home/andre/Projekte/ehrenamtskartei/script/import.ipynb#X10sZmlsZQ%3D%3D?line=4'>5</a>\u001b[0m     \u001b[39mtry\u001b[39;00m:\n",
      "File \u001b[0;32m~/.cache/pypoetry/virtualenvs/base-_zdkNckr-py3.10/lib/python3.10/site-packages/requests/api.py:73\u001b[0m, in \u001b[0;36mget\u001b[0;34m(url, params, **kwargs)\u001b[0m\n\u001b[1;32m     62\u001b[0m \u001b[39mdef\u001b[39;00m \u001b[39mget\u001b[39m(url, params\u001b[39m=\u001b[39m\u001b[39mNone\u001b[39;00m, \u001b[39m*\u001b[39m\u001b[39m*\u001b[39mkwargs):\n\u001b[1;32m     63\u001b[0m     \u001b[39mr\u001b[39m\u001b[39m\"\"\"Sends a GET request.\u001b[39;00m\n\u001b[1;32m     64\u001b[0m \n\u001b[1;32m     65\u001b[0m \u001b[39m    :param url: URL for the new :class:`Request` object.\u001b[39;00m\n\u001b[0;32m   (...)\u001b[0m\n\u001b[1;32m     70\u001b[0m \u001b[39m    :rtype: requests.Response\u001b[39;00m\n\u001b[1;32m     71\u001b[0m \u001b[39m    \"\"\"\u001b[39;00m\n\u001b[0;32m---> 73\u001b[0m     \u001b[39mreturn\u001b[39;00m request(\u001b[39m\"\u001b[39;49m\u001b[39mget\u001b[39;49m\u001b[39m\"\u001b[39;49m, url, params\u001b[39m=\u001b[39;49mparams, \u001b[39m*\u001b[39;49m\u001b[39m*\u001b[39;49mkwargs)\n",
      "File \u001b[0;32m~/.cache/pypoetry/virtualenvs/base-_zdkNckr-py3.10/lib/python3.10/site-packages/requests/api.py:59\u001b[0m, in \u001b[0;36mrequest\u001b[0;34m(method, url, **kwargs)\u001b[0m\n\u001b[1;32m     55\u001b[0m \u001b[39m# By using the 'with' statement we are sure the session is closed, thus we\u001b[39;00m\n\u001b[1;32m     56\u001b[0m \u001b[39m# avoid leaving sockets open which can trigger a ResourceWarning in some\u001b[39;00m\n\u001b[1;32m     57\u001b[0m \u001b[39m# cases, and look like a memory leak in others.\u001b[39;00m\n\u001b[1;32m     58\u001b[0m \u001b[39mwith\u001b[39;00m sessions\u001b[39m.\u001b[39mSession() \u001b[39mas\u001b[39;00m session:\n\u001b[0;32m---> 59\u001b[0m     \u001b[39mreturn\u001b[39;00m session\u001b[39m.\u001b[39;49mrequest(method\u001b[39m=\u001b[39;49mmethod, url\u001b[39m=\u001b[39;49murl, \u001b[39m*\u001b[39;49m\u001b[39m*\u001b[39;49mkwargs)\n",
      "File \u001b[0;32m~/.cache/pypoetry/virtualenvs/base-_zdkNckr-py3.10/lib/python3.10/site-packages/requests/sessions.py:587\u001b[0m, in \u001b[0;36mSession.request\u001b[0;34m(self, method, url, params, data, headers, cookies, files, auth, timeout, allow_redirects, proxies, hooks, stream, verify, cert, json)\u001b[0m\n\u001b[1;32m    582\u001b[0m send_kwargs \u001b[39m=\u001b[39m {\n\u001b[1;32m    583\u001b[0m     \u001b[39m\"\u001b[39m\u001b[39mtimeout\u001b[39m\u001b[39m\"\u001b[39m: timeout,\n\u001b[1;32m    584\u001b[0m     \u001b[39m\"\u001b[39m\u001b[39mallow_redirects\u001b[39m\u001b[39m\"\u001b[39m: allow_redirects,\n\u001b[1;32m    585\u001b[0m }\n\u001b[1;32m    586\u001b[0m send_kwargs\u001b[39m.\u001b[39mupdate(settings)\n\u001b[0;32m--> 587\u001b[0m resp \u001b[39m=\u001b[39m \u001b[39mself\u001b[39;49m\u001b[39m.\u001b[39;49msend(prep, \u001b[39m*\u001b[39;49m\u001b[39m*\u001b[39;49msend_kwargs)\n\u001b[1;32m    589\u001b[0m \u001b[39mreturn\u001b[39;00m resp\n",
      "File \u001b[0;32m~/.cache/pypoetry/virtualenvs/base-_zdkNckr-py3.10/lib/python3.10/site-packages/requests/sessions.py:701\u001b[0m, in \u001b[0;36mSession.send\u001b[0;34m(self, request, **kwargs)\u001b[0m\n\u001b[1;32m    698\u001b[0m start \u001b[39m=\u001b[39m preferred_clock()\n\u001b[1;32m    700\u001b[0m \u001b[39m# Send the request\u001b[39;00m\n\u001b[0;32m--> 701\u001b[0m r \u001b[39m=\u001b[39m adapter\u001b[39m.\u001b[39;49msend(request, \u001b[39m*\u001b[39;49m\u001b[39m*\u001b[39;49mkwargs)\n\u001b[1;32m    703\u001b[0m \u001b[39m# Total elapsed time of the request (approximately)\u001b[39;00m\n\u001b[1;32m    704\u001b[0m elapsed \u001b[39m=\u001b[39m preferred_clock() \u001b[39m-\u001b[39m start\n",
      "File \u001b[0;32m~/.cache/pypoetry/virtualenvs/base-_zdkNckr-py3.10/lib/python3.10/site-packages/requests/adapters.py:489\u001b[0m, in \u001b[0;36mHTTPAdapter.send\u001b[0;34m(self, request, stream, timeout, verify, cert, proxies)\u001b[0m\n\u001b[1;32m    487\u001b[0m \u001b[39mtry\u001b[39;00m:\n\u001b[1;32m    488\u001b[0m     \u001b[39mif\u001b[39;00m \u001b[39mnot\u001b[39;00m chunked:\n\u001b[0;32m--> 489\u001b[0m         resp \u001b[39m=\u001b[39m conn\u001b[39m.\u001b[39;49murlopen(\n\u001b[1;32m    490\u001b[0m             method\u001b[39m=\u001b[39;49mrequest\u001b[39m.\u001b[39;49mmethod,\n\u001b[1;32m    491\u001b[0m             url\u001b[39m=\u001b[39;49murl,\n\u001b[1;32m    492\u001b[0m             body\u001b[39m=\u001b[39;49mrequest\u001b[39m.\u001b[39;49mbody,\n\u001b[1;32m    493\u001b[0m             headers\u001b[39m=\u001b[39;49mrequest\u001b[39m.\u001b[39;49mheaders,\n\u001b[1;32m    494\u001b[0m             redirect\u001b[39m=\u001b[39;49m\u001b[39mFalse\u001b[39;49;00m,\n\u001b[1;32m    495\u001b[0m             assert_same_host\u001b[39m=\u001b[39;49m\u001b[39mFalse\u001b[39;49;00m,\n\u001b[1;32m    496\u001b[0m             preload_content\u001b[39m=\u001b[39;49m\u001b[39mFalse\u001b[39;49;00m,\n\u001b[1;32m    497\u001b[0m             decode_content\u001b[39m=\u001b[39;49m\u001b[39mFalse\u001b[39;49;00m,\n\u001b[1;32m    498\u001b[0m             retries\u001b[39m=\u001b[39;49m\u001b[39mself\u001b[39;49m\u001b[39m.\u001b[39;49mmax_retries,\n\u001b[1;32m    499\u001b[0m             timeout\u001b[39m=\u001b[39;49mtimeout,\n\u001b[1;32m    500\u001b[0m         )\n\u001b[1;32m    502\u001b[0m     \u001b[39m# Send the request.\u001b[39;00m\n\u001b[1;32m    503\u001b[0m     \u001b[39melse\u001b[39;00m:\n\u001b[1;32m    504\u001b[0m         \u001b[39mif\u001b[39;00m \u001b[39mhasattr\u001b[39m(conn, \u001b[39m\"\u001b[39m\u001b[39mproxy_pool\u001b[39m\u001b[39m\"\u001b[39m):\n",
      "File \u001b[0;32m~/.cache/pypoetry/virtualenvs/base-_zdkNckr-py3.10/lib/python3.10/site-packages/urllib3/connectionpool.py:703\u001b[0m, in \u001b[0;36mHTTPConnectionPool.urlopen\u001b[0;34m(self, method, url, body, headers, retries, redirect, assert_same_host, timeout, pool_timeout, release_conn, chunked, body_pos, **response_kw)\u001b[0m\n\u001b[1;32m    700\u001b[0m     \u001b[39mself\u001b[39m\u001b[39m.\u001b[39m_prepare_proxy(conn)\n\u001b[1;32m    702\u001b[0m \u001b[39m# Make the request on the httplib connection object.\u001b[39;00m\n\u001b[0;32m--> 703\u001b[0m httplib_response \u001b[39m=\u001b[39m \u001b[39mself\u001b[39;49m\u001b[39m.\u001b[39;49m_make_request(\n\u001b[1;32m    704\u001b[0m     conn,\n\u001b[1;32m    705\u001b[0m     method,\n\u001b[1;32m    706\u001b[0m     url,\n\u001b[1;32m    707\u001b[0m     timeout\u001b[39m=\u001b[39;49mtimeout_obj,\n\u001b[1;32m    708\u001b[0m     body\u001b[39m=\u001b[39;49mbody,\n\u001b[1;32m    709\u001b[0m     headers\u001b[39m=\u001b[39;49mheaders,\n\u001b[1;32m    710\u001b[0m     chunked\u001b[39m=\u001b[39;49mchunked,\n\u001b[1;32m    711\u001b[0m )\n\u001b[1;32m    713\u001b[0m \u001b[39m# If we're going to release the connection in ``finally:``, then\u001b[39;00m\n\u001b[1;32m    714\u001b[0m \u001b[39m# the response doesn't need to know about the connection. Otherwise\u001b[39;00m\n\u001b[1;32m    715\u001b[0m \u001b[39m# it will also try to release it and we'll have a double-release\u001b[39;00m\n\u001b[1;32m    716\u001b[0m \u001b[39m# mess.\u001b[39;00m\n\u001b[1;32m    717\u001b[0m response_conn \u001b[39m=\u001b[39m conn \u001b[39mif\u001b[39;00m \u001b[39mnot\u001b[39;00m release_conn \u001b[39melse\u001b[39;00m \u001b[39mNone\u001b[39;00m\n",
      "File \u001b[0;32m~/.cache/pypoetry/virtualenvs/base-_zdkNckr-py3.10/lib/python3.10/site-packages/urllib3/connectionpool.py:449\u001b[0m, in \u001b[0;36mHTTPConnectionPool._make_request\u001b[0;34m(self, conn, method, url, timeout, chunked, **httplib_request_kw)\u001b[0m\n\u001b[1;32m    444\u001b[0m             httplib_response \u001b[39m=\u001b[39m conn\u001b[39m.\u001b[39mgetresponse()\n\u001b[1;32m    445\u001b[0m         \u001b[39mexcept\u001b[39;00m \u001b[39mBaseException\u001b[39;00m \u001b[39mas\u001b[39;00m e:\n\u001b[1;32m    446\u001b[0m             \u001b[39m# Remove the TypeError from the exception chain in\u001b[39;00m\n\u001b[1;32m    447\u001b[0m             \u001b[39m# Python 3 (including for exceptions like SystemExit).\u001b[39;00m\n\u001b[1;32m    448\u001b[0m             \u001b[39m# Otherwise it looks like a bug in the code.\u001b[39;00m\n\u001b[0;32m--> 449\u001b[0m             six\u001b[39m.\u001b[39;49mraise_from(e, \u001b[39mNone\u001b[39;49;00m)\n\u001b[1;32m    450\u001b[0m \u001b[39mexcept\u001b[39;00m (SocketTimeout, BaseSSLError, SocketError) \u001b[39mas\u001b[39;00m e:\n\u001b[1;32m    451\u001b[0m     \u001b[39mself\u001b[39m\u001b[39m.\u001b[39m_raise_timeout(err\u001b[39m=\u001b[39me, url\u001b[39m=\u001b[39murl, timeout_value\u001b[39m=\u001b[39mread_timeout)\n",
      "File \u001b[0;32m<string>:3\u001b[0m, in \u001b[0;36mraise_from\u001b[0;34m(value, from_value)\u001b[0m\n",
      "File \u001b[0;32m~/.cache/pypoetry/virtualenvs/base-_zdkNckr-py3.10/lib/python3.10/site-packages/urllib3/connectionpool.py:444\u001b[0m, in \u001b[0;36mHTTPConnectionPool._make_request\u001b[0;34m(self, conn, method, url, timeout, chunked, **httplib_request_kw)\u001b[0m\n\u001b[1;32m    441\u001b[0m \u001b[39mexcept\u001b[39;00m \u001b[39mTypeError\u001b[39;00m:\n\u001b[1;32m    442\u001b[0m     \u001b[39m# Python 3\u001b[39;00m\n\u001b[1;32m    443\u001b[0m     \u001b[39mtry\u001b[39;00m:\n\u001b[0;32m--> 444\u001b[0m         httplib_response \u001b[39m=\u001b[39m conn\u001b[39m.\u001b[39;49mgetresponse()\n\u001b[1;32m    445\u001b[0m     \u001b[39mexcept\u001b[39;00m \u001b[39mBaseException\u001b[39;00m \u001b[39mas\u001b[39;00m e:\n\u001b[1;32m    446\u001b[0m         \u001b[39m# Remove the TypeError from the exception chain in\u001b[39;00m\n\u001b[1;32m    447\u001b[0m         \u001b[39m# Python 3 (including for exceptions like SystemExit).\u001b[39;00m\n\u001b[1;32m    448\u001b[0m         \u001b[39m# Otherwise it looks like a bug in the code.\u001b[39;00m\n\u001b[1;32m    449\u001b[0m         six\u001b[39m.\u001b[39mraise_from(e, \u001b[39mNone\u001b[39;00m)\n",
      "File \u001b[0;32m/usr/lib64/python3.10/http/client.py:1374\u001b[0m, in \u001b[0;36mHTTPConnection.getresponse\u001b[0;34m(self)\u001b[0m\n\u001b[1;32m   1372\u001b[0m \u001b[39mtry\u001b[39;00m:\n\u001b[1;32m   1373\u001b[0m     \u001b[39mtry\u001b[39;00m:\n\u001b[0;32m-> 1374\u001b[0m         response\u001b[39m.\u001b[39;49mbegin()\n\u001b[1;32m   1375\u001b[0m     \u001b[39mexcept\u001b[39;00m \u001b[39mConnectionError\u001b[39;00m:\n\u001b[1;32m   1376\u001b[0m         \u001b[39mself\u001b[39m\u001b[39m.\u001b[39mclose()\n",
      "File \u001b[0;32m/usr/lib64/python3.10/http/client.py:318\u001b[0m, in \u001b[0;36mHTTPResponse.begin\u001b[0;34m(self)\u001b[0m\n\u001b[1;32m    316\u001b[0m \u001b[39m# read until we get a non-100 response\u001b[39;00m\n\u001b[1;32m    317\u001b[0m \u001b[39mwhile\u001b[39;00m \u001b[39mTrue\u001b[39;00m:\n\u001b[0;32m--> 318\u001b[0m     version, status, reason \u001b[39m=\u001b[39m \u001b[39mself\u001b[39;49m\u001b[39m.\u001b[39;49m_read_status()\n\u001b[1;32m    319\u001b[0m     \u001b[39mif\u001b[39;00m status \u001b[39m!=\u001b[39m CONTINUE:\n\u001b[1;32m    320\u001b[0m         \u001b[39mbreak\u001b[39;00m\n",
      "File \u001b[0;32m/usr/lib64/python3.10/http/client.py:279\u001b[0m, in \u001b[0;36mHTTPResponse._read_status\u001b[0;34m(self)\u001b[0m\n\u001b[1;32m    278\u001b[0m \u001b[39mdef\u001b[39;00m \u001b[39m_read_status\u001b[39m(\u001b[39mself\u001b[39m):\n\u001b[0;32m--> 279\u001b[0m     line \u001b[39m=\u001b[39m \u001b[39mstr\u001b[39m(\u001b[39mself\u001b[39;49m\u001b[39m.\u001b[39;49mfp\u001b[39m.\u001b[39;49mreadline(_MAXLINE \u001b[39m+\u001b[39;49m \u001b[39m1\u001b[39;49m), \u001b[39m\"\u001b[39m\u001b[39miso-8859-1\u001b[39m\u001b[39m\"\u001b[39m)\n\u001b[1;32m    280\u001b[0m     \u001b[39mif\u001b[39;00m \u001b[39mlen\u001b[39m(line) \u001b[39m>\u001b[39m _MAXLINE:\n\u001b[1;32m    281\u001b[0m         \u001b[39mraise\u001b[39;00m LineTooLong(\u001b[39m\"\u001b[39m\u001b[39mstatus line\u001b[39m\u001b[39m\"\u001b[39m)\n",
      "File \u001b[0;32m/usr/lib64/python3.10/socket.py:705\u001b[0m, in \u001b[0;36mSocketIO.readinto\u001b[0;34m(self, b)\u001b[0m\n\u001b[1;32m    703\u001b[0m \u001b[39mwhile\u001b[39;00m \u001b[39mTrue\u001b[39;00m:\n\u001b[1;32m    704\u001b[0m     \u001b[39mtry\u001b[39;00m:\n\u001b[0;32m--> 705\u001b[0m         \u001b[39mreturn\u001b[39;00m \u001b[39mself\u001b[39;49m\u001b[39m.\u001b[39;49m_sock\u001b[39m.\u001b[39;49mrecv_into(b)\n\u001b[1;32m    706\u001b[0m     \u001b[39mexcept\u001b[39;00m timeout:\n\u001b[1;32m    707\u001b[0m         \u001b[39mself\u001b[39m\u001b[39m.\u001b[39m_timeout_occurred \u001b[39m=\u001b[39m \u001b[39mTrue\u001b[39;00m\n",
      "File \u001b[0;32m/usr/lib64/python3.10/ssl.py:1274\u001b[0m, in \u001b[0;36mSSLSocket.recv_into\u001b[0;34m(self, buffer, nbytes, flags)\u001b[0m\n\u001b[1;32m   1270\u001b[0m     \u001b[39mif\u001b[39;00m flags \u001b[39m!=\u001b[39m \u001b[39m0\u001b[39m:\n\u001b[1;32m   1271\u001b[0m         \u001b[39mraise\u001b[39;00m \u001b[39mValueError\u001b[39;00m(\n\u001b[1;32m   1272\u001b[0m           \u001b[39m\"\u001b[39m\u001b[39mnon-zero flags not allowed in calls to recv_into() on \u001b[39m\u001b[39m%s\u001b[39;00m\u001b[39m\"\u001b[39m \u001b[39m%\u001b[39m\n\u001b[1;32m   1273\u001b[0m           \u001b[39mself\u001b[39m\u001b[39m.\u001b[39m\u001b[39m__class__\u001b[39m)\n\u001b[0;32m-> 1274\u001b[0m     \u001b[39mreturn\u001b[39;00m \u001b[39mself\u001b[39;49m\u001b[39m.\u001b[39;49mread(nbytes, buffer)\n\u001b[1;32m   1275\u001b[0m \u001b[39melse\u001b[39;00m:\n\u001b[1;32m   1276\u001b[0m     \u001b[39mreturn\u001b[39;00m \u001b[39msuper\u001b[39m()\u001b[39m.\u001b[39mrecv_into(buffer, nbytes, flags)\n",
      "File \u001b[0;32m/usr/lib64/python3.10/ssl.py:1130\u001b[0m, in \u001b[0;36mSSLSocket.read\u001b[0;34m(self, len, buffer)\u001b[0m\n\u001b[1;32m   1128\u001b[0m \u001b[39mtry\u001b[39;00m:\n\u001b[1;32m   1129\u001b[0m     \u001b[39mif\u001b[39;00m buffer \u001b[39mis\u001b[39;00m \u001b[39mnot\u001b[39;00m \u001b[39mNone\u001b[39;00m:\n\u001b[0;32m-> 1130\u001b[0m         \u001b[39mreturn\u001b[39;00m \u001b[39mself\u001b[39;49m\u001b[39m.\u001b[39;49m_sslobj\u001b[39m.\u001b[39;49mread(\u001b[39mlen\u001b[39;49m, buffer)\n\u001b[1;32m   1131\u001b[0m     \u001b[39melse\u001b[39;00m:\n\u001b[1;32m   1132\u001b[0m         \u001b[39mreturn\u001b[39;00m \u001b[39mself\u001b[39m\u001b[39m.\u001b[39m_sslobj\u001b[39m.\u001b[39mread(\u001b[39mlen\u001b[39m)\n",
      "\u001b[0;31mKeyboardInterrupt\u001b[0m: "
     ]
    }
   ],
   "source": [
    "# idn abfrage starten und ergebnisse in neue spalte matches schreiben\n",
    "df['matches'] = df.apply(gnd_abfrage, axis=1)"
   ]
  },
  {
   "cell_type": "code",
   "execution_count": 24,
   "metadata": {},
   "outputs": [],
   "source": [
    "# auswertung starten und matchende idns in neue spalte idns schreiben\n",
    "df['idns'] = df.matches.apply(gnd_auswertung)"
   ]
  },
  {
   "cell_type": "code",
   "execution_count": 61,
   "metadata": {},
   "outputs": [],
   "source": [
    "def pica_schreiben(row):\n",
    "    pica = f\"\"\"0500 Qd\n",
    "0501 Text$btxt\n",
    "0502 ohne Hilfsmittel zu benutzen$bn\n",
    "0503 Blatt$bnb\n",
    "0600 yy\n",
    "1100 {row.tod[-4:]}$n[nicht nach {row.tod[-4:]}]\n",
    "1130 TB-papier\n",
    "1130 !040445224!\n",
    "1131 !041466098!\n",
    "1132 a1-analog;f1-text;f2-blatt;v-cont\n",
    "1500 /1ger\n",
    "1700 /1XA-DE\n",
    "3100 !000073369!$BZusammenstellender$4com\n",
    "4000 Ehrenamtsakte {row.vorname} {row.nachname}\n",
    "4019 Ehrenamtsakte$Bobja\n",
    "4060 {row.umfang}\n",
    "4105 !1061153886!\n",
    "4700 |BSM|\n",
    "5100 !000073369!\n",
    "\"\"\"\n",
    "    if len(row.idns) > 2:\n",
    "        pica += f\"5101 !{row.idns[2:-2]}!\\n\"\n",
    "    \n",
    "    pica += f\"\"\"5590 [Objektgattung]\n",
    "5590 !040009254!\n",
    "7001 {now.strftime('%d-%m-%y')} : x\n",
    "4800 !009033645!\n",
    "6710 !1265505004!$l{row.signatur.split(\",\")[1]}\n",
    "7100 HA/BV 93,{row.signatur.split(\",\")[1]} @ m\n",
    "7109 !!DBSM/S!! ; HA/BV 93,{row.signatur.split(\",\")[1]}\n",
    "\\t\\n\"\"\"\n",
    "    return pica\n"
   ]
  },
  {
   "cell_type": "code",
   "execution_count": 55,
   "metadata": {},
   "outputs": [
    {
     "ename": "AttributeError",
     "evalue": "'str' object has no attribute 'str'",
     "output_type": "error",
     "traceback": [
      "\u001b[0;31m---------------------------------------------------------------------------\u001b[0m",
      "\u001b[0;31mAttributeError\u001b[0m                            Traceback (most recent call last)",
      "\u001b[1;32m/home/andre/Projekte/ehrenamtskartei/script/import.ipynb Zelle 10\u001b[0m in \u001b[0;36m<cell line: 2>\u001b[0;34m()\u001b[0m\n\u001b[1;32m      <a href='vscode-notebook-cell:/home/andre/Projekte/ehrenamtskartei/script/import.ipynb#X20sZmlsZQ%3D%3D?line=0'>1</a>\u001b[0m now \u001b[39m=\u001b[39m datetime\u001b[39m.\u001b[39mnow()\n\u001b[1;32m      <a href='vscode-notebook-cell:/home/andre/Projekte/ehrenamtskartei/script/import.ipynb#X20sZmlsZQ%3D%3D?line=1'>2</a>\u001b[0m \u001b[39mfor\u001b[39;00m index, row \u001b[39min\u001b[39;00m df[:\u001b[39m5\u001b[39m]\u001b[39m.\u001b[39miterrows():\n\u001b[0;32m----> <a href='vscode-notebook-cell:/home/andre/Projekte/ehrenamtskartei/script/import.ipynb#X20sZmlsZQ%3D%3D?line=2'>3</a>\u001b[0m     \u001b[39mprint\u001b[39m(pica_schreiben(row))\n",
      "\u001b[1;32m/home/andre/Projekte/ehrenamtskartei/script/import.ipynb Zelle 10\u001b[0m in \u001b[0;36mpica_schreiben\u001b[0;34m(row)\u001b[0m\n\u001b[1;32m      <a href='vscode-notebook-cell:/home/andre/Projekte/ehrenamtskartei/script/import.ipynb#X20sZmlsZQ%3D%3D?line=0'>1</a>\u001b[0m \u001b[39mdef\u001b[39;00m \u001b[39mpica_schreiben\u001b[39m(row):\n\u001b[1;32m      <a href='vscode-notebook-cell:/home/andre/Projekte/ehrenamtskartei/script/import.ipynb#X20sZmlsZQ%3D%3D?line=1'>2</a>\u001b[0m     pica \u001b[39m=\u001b[39m \u001b[39mf\u001b[39m\u001b[39m\"\"\"\u001b[39m\u001b[39m0500 Qd\u001b[39m\n\u001b[1;32m      <a href='vscode-notebook-cell:/home/andre/Projekte/ehrenamtskartei/script/import.ipynb#X20sZmlsZQ%3D%3D?line=2'>3</a>\u001b[0m \u001b[39m0501 Text$btxt\u001b[39m\n\u001b[1;32m      <a href='vscode-notebook-cell:/home/andre/Projekte/ehrenamtskartei/script/import.ipynb#X20sZmlsZQ%3D%3D?line=3'>4</a>\u001b[0m \u001b[39m0502 ohne Hilfsmittel zu benutzen$bn\u001b[39m\n\u001b[0;32m   (...)\u001b[0m\n\u001b[1;32m     <a href='vscode-notebook-cell:/home/andre/Projekte/ehrenamtskartei/script/import.ipynb#X20sZmlsZQ%3D%3D?line=19'>20</a>\u001b[0m \u001b[39m5100 !000073369!\u001b[39m\n\u001b[1;32m     <a href='vscode-notebook-cell:/home/andre/Projekte/ehrenamtskartei/script/import.ipynb#X20sZmlsZQ%3D%3D?line=20'>21</a>\u001b[0m \u001b[39m\"\"\"\u001b[39m\n\u001b[0;32m---> <a href='vscode-notebook-cell:/home/andre/Projekte/ehrenamtskartei/script/import.ipynb#X20sZmlsZQ%3D%3D?line=21'>22</a>\u001b[0m     \u001b[39mif\u001b[39;00m row\u001b[39m.\u001b[39;49midns\u001b[39m.\u001b[39;49mstr\u001b[39m.\u001b[39mlen() \u001b[39m>\u001b[39m \u001b[39m2\u001b[39m:\n\u001b[1;32m     <a href='vscode-notebook-cell:/home/andre/Projekte/ehrenamtskartei/script/import.ipynb#X20sZmlsZQ%3D%3D?line=22'>23</a>\u001b[0m         pica \u001b[39m+\u001b[39m\u001b[39m=\u001b[39m \u001b[39mf\u001b[39m\u001b[39m\"\u001b[39m\u001b[39m5101 !\u001b[39m\u001b[39m{\u001b[39;00mrow\u001b[39m.\u001b[39midns[\u001b[39m2\u001b[39m:\u001b[39m-\u001b[39m\u001b[39m2\u001b[39m]\u001b[39m}\u001b[39;00m\u001b[39m!\u001b[39m\u001b[39m\\n\u001b[39;00m\u001b[39m\"\u001b[39m\n\u001b[1;32m     <a href='vscode-notebook-cell:/home/andre/Projekte/ehrenamtskartei/script/import.ipynb#X20sZmlsZQ%3D%3D?line=24'>25</a>\u001b[0m     pica \u001b[39m+\u001b[39m\u001b[39m=\u001b[39m \u001b[39mf\u001b[39m\u001b[39m\"\"\"\u001b[39m\n\u001b[1;32m     <a href='vscode-notebook-cell:/home/andre/Projekte/ehrenamtskartei/script/import.ipynb#X20sZmlsZQ%3D%3D?line=25'>26</a>\u001b[0m \u001b[39m5590 [Objektgattung]\u001b[39m\n\u001b[1;32m     <a href='vscode-notebook-cell:/home/andre/Projekte/ehrenamtskartei/script/import.ipynb#X20sZmlsZQ%3D%3D?line=26'>27</a>\u001b[0m \u001b[39m5590 !040009254!\u001b[39m\n\u001b[0;32m   (...)\u001b[0m\n\u001b[1;32m     <a href='vscode-notebook-cell:/home/andre/Projekte/ehrenamtskartei/script/import.ipynb#X20sZmlsZQ%3D%3D?line=31'>32</a>\u001b[0m \u001b[39m7109 !!DBSM/S!! ; HA/BV 93,\u001b[39m\u001b[39m{\u001b[39;00mrow\u001b[39m.\u001b[39msignatur\u001b[39m.\u001b[39msplit(\u001b[39m\"\u001b[39m\u001b[39m,\u001b[39m\u001b[39m\"\u001b[39m)[\u001b[39m1\u001b[39m]\u001b[39m}\u001b[39;00m\n\u001b[1;32m     <a href='vscode-notebook-cell:/home/andre/Projekte/ehrenamtskartei/script/import.ipynb#X20sZmlsZQ%3D%3D?line=32'>33</a>\u001b[0m \u001b[39m\\t\u001b[39;00m\u001b[39m\\n\u001b[39;00m\u001b[39m\"\"\"\u001b[39m\n",
      "\u001b[0;31mAttributeError\u001b[0m: 'str' object has no attribute 'str'"
     ]
    }
   ],
   "source": [
    "now = datetime.now()\n",
    "for index, row in df[:5].iterrows():\n",
    "    print(pica_schreiben(row))"
   ]
  },
  {
   "cell_type": "code",
   "execution_count": 62,
   "metadata": {},
   "outputs": [
    {
     "ename": "TypeError",
     "evalue": "'NAType' object is not subscriptable",
     "output_type": "error",
     "traceback": [
      "\u001b[0;31m---------------------------------------------------------------------------\u001b[0m",
      "\u001b[0;31mTypeError\u001b[0m                                 Traceback (most recent call last)",
      "\u001b[1;32m/home/andre/Projekte/ehrenamtskartei/script/import.ipynb Zelle 11\u001b[0m in \u001b[0;36m<cell line: 2>\u001b[0;34m()\u001b[0m\n\u001b[1;32m      <a href='vscode-notebook-cell:/home/andre/Projekte/ehrenamtskartei/script/import.ipynb#X24sZmlsZQ%3D%3D?line=2'>3</a>\u001b[0m     \u001b[39mwith\u001b[39;00m \u001b[39mopen\u001b[39m(\u001b[39mf\u001b[39m\u001b[39m\"\u001b[39m\u001b[39m../dat/ehrenamstkartei-recent.dat\u001b[39m\u001b[39m\"\u001b[39m, \u001b[39m'\u001b[39m\u001b[39mw\u001b[39m\u001b[39m'\u001b[39m) \u001b[39mas\u001b[39;00m f2:\n\u001b[1;32m      <a href='vscode-notebook-cell:/home/andre/Projekte/ehrenamtskartei/script/import.ipynb#X24sZmlsZQ%3D%3D?line=3'>4</a>\u001b[0m         \u001b[39mfor\u001b[39;00m index, row \u001b[39min\u001b[39;00m df[:\u001b[39m100\u001b[39m]\u001b[39m.\u001b[39miterrows():\n\u001b[0;32m----> <a href='vscode-notebook-cell:/home/andre/Projekte/ehrenamtskartei/script/import.ipynb#X24sZmlsZQ%3D%3D?line=4'>5</a>\u001b[0m             f\u001b[39m.\u001b[39mwrite(pica_schreiben(row))\n\u001b[1;32m      <a href='vscode-notebook-cell:/home/andre/Projekte/ehrenamtskartei/script/import.ipynb#X24sZmlsZQ%3D%3D?line=5'>6</a>\u001b[0m             f2\u001b[39m.\u001b[39mwrite(pica_schreiben(row))\n\u001b[1;32m      <a href='vscode-notebook-cell:/home/andre/Projekte/ehrenamtskartei/script/import.ipynb#X24sZmlsZQ%3D%3D?line=7'>8</a>\u001b[0m \u001b[39mwith\u001b[39;00m \u001b[39mopen\u001b[39m(\u001b[39mf\u001b[39m\u001b[39m\"\u001b[39m\u001b[39m../dat/ehrenamstkartei-recent-sample.dat\u001b[39m\u001b[39m\"\u001b[39m, \u001b[39m'\u001b[39m\u001b[39mw\u001b[39m\u001b[39m'\u001b[39m) \u001b[39mas\u001b[39;00m f:\n",
      "\u001b[1;32m/home/andre/Projekte/ehrenamtskartei/script/import.ipynb Zelle 11\u001b[0m in \u001b[0;36mpica_schreiben\u001b[0;34m(row)\u001b[0m\n\u001b[1;32m      <a href='vscode-notebook-cell:/home/andre/Projekte/ehrenamtskartei/script/import.ipynb#X24sZmlsZQ%3D%3D?line=0'>1</a>\u001b[0m \u001b[39mdef\u001b[39;00m \u001b[39mpica_schreiben\u001b[39m(row):\n\u001b[1;32m      <a href='vscode-notebook-cell:/home/andre/Projekte/ehrenamtskartei/script/import.ipynb#X24sZmlsZQ%3D%3D?line=1'>2</a>\u001b[0m     pica \u001b[39m=\u001b[39m \u001b[39mf\u001b[39m\u001b[39m\"\"\"\u001b[39m\u001b[39m0500 Qd\u001b[39m\n\u001b[1;32m      <a href='vscode-notebook-cell:/home/andre/Projekte/ehrenamtskartei/script/import.ipynb#X24sZmlsZQ%3D%3D?line=2'>3</a>\u001b[0m \u001b[39m0501 Text$btxt\u001b[39m\n\u001b[1;32m      <a href='vscode-notebook-cell:/home/andre/Projekte/ehrenamtskartei/script/import.ipynb#X24sZmlsZQ%3D%3D?line=3'>4</a>\u001b[0m \u001b[39m0502 ohne Hilfsmittel zu benutzen$bn\u001b[39m\n\u001b[1;32m      <a href='vscode-notebook-cell:/home/andre/Projekte/ehrenamtskartei/script/import.ipynb#X24sZmlsZQ%3D%3D?line=4'>5</a>\u001b[0m \u001b[39m0503 Blatt$bnb\u001b[39m\n\u001b[1;32m      <a href='vscode-notebook-cell:/home/andre/Projekte/ehrenamtskartei/script/import.ipynb#X24sZmlsZQ%3D%3D?line=5'>6</a>\u001b[0m \u001b[39m0600 yy\u001b[39m\n\u001b[0;32m----> <a href='vscode-notebook-cell:/home/andre/Projekte/ehrenamtskartei/script/import.ipynb#X24sZmlsZQ%3D%3D?line=6'>7</a>\u001b[0m \u001b[39m1100 \u001b[39m\u001b[39m{\u001b[39;00mrow\u001b[39m.\u001b[39mtod[\u001b[39m-\u001b[39m\u001b[39m4\u001b[39m:]\u001b[39m}\u001b[39;00m\u001b[39m$n[nicht nach \u001b[39m\u001b[39m{\u001b[39;00mrow\u001b[39m.\u001b[39mtod[\u001b[39m-\u001b[39m\u001b[39m4\u001b[39m:]\u001b[39m}\u001b[39;00m\u001b[39m]\u001b[39m\n\u001b[1;32m      <a href='vscode-notebook-cell:/home/andre/Projekte/ehrenamtskartei/script/import.ipynb#X24sZmlsZQ%3D%3D?line=7'>8</a>\u001b[0m \u001b[39m1130 TB-papier\u001b[39m\n\u001b[1;32m      <a href='vscode-notebook-cell:/home/andre/Projekte/ehrenamtskartei/script/import.ipynb#X24sZmlsZQ%3D%3D?line=8'>9</a>\u001b[0m \u001b[39m1130 !040445224!\u001b[39m\n\u001b[1;32m     <a href='vscode-notebook-cell:/home/andre/Projekte/ehrenamtskartei/script/import.ipynb#X24sZmlsZQ%3D%3D?line=9'>10</a>\u001b[0m \u001b[39m1131 !041466098!\u001b[39m\n\u001b[1;32m     <a href='vscode-notebook-cell:/home/andre/Projekte/ehrenamtskartei/script/import.ipynb#X24sZmlsZQ%3D%3D?line=10'>11</a>\u001b[0m \u001b[39m1132 a1-analog;f1-text;f2-blatt;v-cont\u001b[39m\n\u001b[1;32m     <a href='vscode-notebook-cell:/home/andre/Projekte/ehrenamtskartei/script/import.ipynb#X24sZmlsZQ%3D%3D?line=11'>12</a>\u001b[0m \u001b[39m1500 /1ger\u001b[39m\n\u001b[1;32m     <a href='vscode-notebook-cell:/home/andre/Projekte/ehrenamtskartei/script/import.ipynb#X24sZmlsZQ%3D%3D?line=12'>13</a>\u001b[0m \u001b[39m1700 /1XA-DE\u001b[39m\n\u001b[1;32m     <a href='vscode-notebook-cell:/home/andre/Projekte/ehrenamtskartei/script/import.ipynb#X24sZmlsZQ%3D%3D?line=13'>14</a>\u001b[0m \u001b[39m3100 !000073369!$BZusammenstellender$4com\u001b[39m\n\u001b[1;32m     <a href='vscode-notebook-cell:/home/andre/Projekte/ehrenamtskartei/script/import.ipynb#X24sZmlsZQ%3D%3D?line=14'>15</a>\u001b[0m \u001b[39m4000 Ehrenamtsakte \u001b[39m\u001b[39m{\u001b[39;00mrow\u001b[39m.\u001b[39mvorname\u001b[39m}\u001b[39;00m\u001b[39m \u001b[39m\u001b[39m{\u001b[39;00mrow\u001b[39m.\u001b[39mnachname\u001b[39m}\u001b[39;00m\n\u001b[1;32m     <a href='vscode-notebook-cell:/home/andre/Projekte/ehrenamtskartei/script/import.ipynb#X24sZmlsZQ%3D%3D?line=15'>16</a>\u001b[0m \u001b[39m4019 Ehrenamtsakte$Bobja\u001b[39m\n\u001b[1;32m     <a href='vscode-notebook-cell:/home/andre/Projekte/ehrenamtskartei/script/import.ipynb#X24sZmlsZQ%3D%3D?line=16'>17</a>\u001b[0m \u001b[39m4060 \u001b[39m\u001b[39m{\u001b[39;00mrow\u001b[39m.\u001b[39mumfang\u001b[39m}\u001b[39;00m\n\u001b[1;32m     <a href='vscode-notebook-cell:/home/andre/Projekte/ehrenamtskartei/script/import.ipynb#X24sZmlsZQ%3D%3D?line=17'>18</a>\u001b[0m \u001b[39m4105 !1061153886!\u001b[39m\n\u001b[1;32m     <a href='vscode-notebook-cell:/home/andre/Projekte/ehrenamtskartei/script/import.ipynb#X24sZmlsZQ%3D%3D?line=18'>19</a>\u001b[0m \u001b[39m4700 |BSM|\u001b[39m\n\u001b[1;32m     <a href='vscode-notebook-cell:/home/andre/Projekte/ehrenamtskartei/script/import.ipynb#X24sZmlsZQ%3D%3D?line=19'>20</a>\u001b[0m \u001b[39m5100 !000073369!\u001b[39m\n\u001b[1;32m     <a href='vscode-notebook-cell:/home/andre/Projekte/ehrenamtskartei/script/import.ipynb#X24sZmlsZQ%3D%3D?line=20'>21</a>\u001b[0m \u001b[39m\"\"\"\u001b[39m\n\u001b[1;32m     <a href='vscode-notebook-cell:/home/andre/Projekte/ehrenamtskartei/script/import.ipynb#X24sZmlsZQ%3D%3D?line=21'>22</a>\u001b[0m     \u001b[39mif\u001b[39;00m \u001b[39mlen\u001b[39m(row\u001b[39m.\u001b[39midns) \u001b[39m>\u001b[39m \u001b[39m2\u001b[39m:\n\u001b[1;32m     <a href='vscode-notebook-cell:/home/andre/Projekte/ehrenamtskartei/script/import.ipynb#X24sZmlsZQ%3D%3D?line=22'>23</a>\u001b[0m         pica \u001b[39m+\u001b[39m\u001b[39m=\u001b[39m \u001b[39mf\u001b[39m\u001b[39m\"\u001b[39m\u001b[39m5101 !\u001b[39m\u001b[39m{\u001b[39;00mrow\u001b[39m.\u001b[39midns[\u001b[39m2\u001b[39m:\u001b[39m-\u001b[39m\u001b[39m2\u001b[39m]\u001b[39m}\u001b[39;00m\u001b[39m!\u001b[39m\u001b[39m\\n\u001b[39;00m\u001b[39m\"\u001b[39m\n",
      "\u001b[0;31mTypeError\u001b[0m: 'NAType' object is not subscriptable"
     ]
    }
   ],
   "source": [
    "now = datetime.now()\n",
    "with open(f\"../dat/ehrenamstkartei-{now.strftime('%y-%m-%d-%H-%M-%S')}.dat\",\"w\") as f:\n",
    "    with open(f\"../dat/ehrenamstkartei-recent.dat\", 'w') as f2:\n",
    "        for index, row in df[:100].iterrows():\n",
    "            f.write(pica_schreiben(row))\n",
    "            f2.write(pica_schreiben(row))\n",
    "\n",
    "with open(f\"../dat/ehrenamstkartei-recent-sample.dat\", 'w') as f:\n",
    "    for index, row in df[:100].sample(5).iterrows():\n",
    "        f.write(pica_schreiben(row))"
   ]
  },
  {
   "cell_type": "code",
   "execution_count": 52,
   "metadata": {},
   "outputs": [
    {
     "data": {
      "text/html": [
       "<div><div id=41f67635-c58d-4d1f-89d2-806f9dcaaa5d style=\"display:none; background-color:#9D6CFF; color:white; width:200px; height:30px; padding-left:5px; border-radius:4px; flex-direction:row; justify-content:space-around; align-items:center;\" onmouseover=\"this.style.backgroundColor='#BA9BF8'\" onmouseout=\"this.style.backgroundColor='#9D6CFF'\" onclick=\"window.commands?.execute('create-mitosheet-from-dataframe-output');\">See Full Dataframe in Mito</div> <script> if (window.commands?.hasCommand('create-mitosheet-from-dataframe-output')) document.getElementById('41f67635-c58d-4d1f-89d2-806f9dcaaa5d').style.display = 'flex' </script> <table border=\"1\" class=\"dataframe\">\n",
       "  <thead>\n",
       "    <tr style=\"text-align: right;\">\n",
       "      <th></th>\n",
       "      <th>signatur</th>\n",
       "      <th>nachname</th>\n",
       "      <th>vorname</th>\n",
       "      <th>geburt</th>\n",
       "      <th>tod</th>\n",
       "      <th>umfang</th>\n",
       "      <th>matches</th>\n",
       "      <th>idns</th>\n",
       "    </tr>\n",
       "  </thead>\n",
       "  <tbody>\n",
       "    <tr>\n",
       "      <th>0</th>\n",
       "      <td>HA/BV 93,1</td>\n",
       "      <td>Adrianwild</td>\n",
       "      <td>Werner</td>\n",
       "      <td>21.04.1915</td>\n",
       "      <td>18.08.2001</td>\n",
       "      <td>17 Seiten</td>\n",
       "      <td>[]</td>\n",
       "      <td>[]</td>\n",
       "    </tr>\n",
       "    <tr>\n",
       "      <th>1</th>\n",
       "      <td>HA/BV 93,2</td>\n",
       "      <td>Ammann</td>\n",
       "      <td>Egon</td>\n",
       "      <td>09.10.1941</td>\n",
       "      <td>09.08.2017</td>\n",
       "      <td>4 Seiten</td>\n",
       "      <td>[{'idn': '10906769X', 'datum_match': True}]</td>\n",
       "      <td>['10906769X']</td>\n",
       "    </tr>\n",
       "    <tr>\n",
       "      <th>2</th>\n",
       "      <td>HA/BV 93,3</td>\n",
       "      <td>Anrich</td>\n",
       "      <td>Gerold</td>\n",
       "      <td>24.11.1942</td>\n",
       "      <td>04.10.2013</td>\n",
       "      <td>21 Seiten</td>\n",
       "      <td>[{'idn': '120243695', 'datum_match': False}]</td>\n",
       "      <td>[]</td>\n",
       "    </tr>\n",
       "    <tr>\n",
       "      <th>3</th>\n",
       "      <td>HA/BV 93,4</td>\n",
       "      <td>Appel</td>\n",
       "      <td>Rolf</td>\n",
       "      <td>16.06.1920</td>\n",
       "      <td>03.04.2019</td>\n",
       "      <td>16 Seiten</td>\n",
       "      <td>[{'idn': '104609664', 'datum_match': False}, {'idn': '116316357', 'datum_match': False}, {'idn': '173874452', 'datum_match': False}]</td>\n",
       "      <td>[]</td>\n",
       "    </tr>\n",
       "    <tr>\n",
       "      <th>4</th>\n",
       "      <td>HA/BV 93,5</td>\n",
       "      <td>Arndt</td>\n",
       "      <td>Martin</td>\n",
       "      <td>02.10.1917</td>\n",
       "      <td>02.03.2005</td>\n",
       "      <td>12 Seiten</td>\n",
       "      <td>[{'idn': '1033079022', 'datum_match': False}, {'idn': '1258417111', 'datum_match': False}, {'idn': '1017999198', 'datum_match': False}, {'idn': '13286410X', 'datum_match': False}, {'idn': '124861393', 'datum_match': False}, {'idn': '115655514', 'datum_match': False}, {'idn': '115563040', 'datum_match': False}, {'idn': '12019225X', 'datum_match': False}, {'idn': '130040207', 'datum_match': False}, {'idn': '121999605X', 'datum_match': False}, {'idn': '103140452X', 'datum_match': False}, {'idn': '1046090283', 'datum_match': False}, {'idn': '1235620085', 'datum_match': False}]</td>\n",
       "      <td>[]</td>\n",
       "    </tr>\n",
       "    <tr>\n",
       "      <th>...</th>\n",
       "      <td>...</td>\n",
       "      <td>...</td>\n",
       "      <td>...</td>\n",
       "      <td>...</td>\n",
       "      <td>...</td>\n",
       "      <td>...</td>\n",
       "      <td>...</td>\n",
       "      <td>...</td>\n",
       "    </tr>\n",
       "    <tr>\n",
       "      <th>567</th>\n",
       "      <td>&lt;NA&gt;</td>\n",
       "      <td>Zeller</td>\n",
       "      <td>Bernhard</td>\n",
       "      <td>19.09.1919</td>\n",
       "      <td>07.09.2008</td>\n",
       "      <td>&lt;NA&gt;</td>\n",
       "      <td>[{'idn': '1123217912', 'datum_match': False}, {'idn': '143394525', 'datum_match': False}, {'idn': '173825303', 'datum_match': False}, {'idn': '1243886684', 'datum_match': False}, {'idn': '118772465', 'datum_match': True}, {'idn': '173693156', 'datum_match': False}]</td>\n",
       "      <td>['118772465']</td>\n",
       "    </tr>\n",
       "    <tr>\n",
       "      <th>568</th>\n",
       "      <td>&lt;NA&gt;</td>\n",
       "      <td>Zill</td>\n",
       "      <td>Wolfgang</td>\n",
       "      <td>10.12.1928</td>\n",
       "      <td>16.06.1986</td>\n",
       "      <td>&lt;NA&gt;</td>\n",
       "      <td>[{'idn': '1062130359', 'datum_match': False}]</td>\n",
       "      <td>[]</td>\n",
       "    </tr>\n",
       "    <tr>\n",
       "      <th>569</th>\n",
       "      <td>&lt;NA&gt;</td>\n",
       "      <td>Zipp</td>\n",
       "      <td>Marianne</td>\n",
       "      <td>14.03.1920</td>\n",
       "      <td>01.10.1983</td>\n",
       "      <td>&lt;NA&gt;</td>\n",
       "      <td>[]</td>\n",
       "      <td>[]</td>\n",
       "    </tr>\n",
       "    <tr>\n",
       "      <th>570</th>\n",
       "      <td>&lt;NA&gt;</td>\n",
       "      <td>Zirk</td>\n",
       "      <td>Heinz</td>\n",
       "      <td>21.01.1947</td>\n",
       "      <td>09.08.2012</td>\n",
       "      <td>&lt;NA&gt;</td>\n",
       "      <td>[]</td>\n",
       "      <td>[]</td>\n",
       "    </tr>\n",
       "    <tr>\n",
       "      <th>571</th>\n",
       "      <td>&lt;NA&gt;</td>\n",
       "      <td>Zittwitz</td>\n",
       "      <td>Dorothee von</td>\n",
       "      <td>09.06.1951</td>\n",
       "      <td>27.07.2016</td>\n",
       "      <td>&lt;NA&gt;</td>\n",
       "      <td>[]</td>\n",
       "      <td>[]</td>\n",
       "    </tr>\n",
       "  </tbody>\n",
       "</table></div>"
      ],
      "text/plain": [
       "       signatur    nachname       vorname      geburt         tod     umfang  \\\n",
       "0    HA/BV 93,1  Adrianwild        Werner  21.04.1915  18.08.2001  17 Seiten   \n",
       "1    HA/BV 93,2      Ammann          Egon  09.10.1941  09.08.2017   4 Seiten   \n",
       "2    HA/BV 93,3      Anrich        Gerold  24.11.1942  04.10.2013  21 Seiten   \n",
       "3    HA/BV 93,4       Appel          Rolf  16.06.1920  03.04.2019  16 Seiten   \n",
       "4    HA/BV 93,5       Arndt        Martin  02.10.1917  02.03.2005  12 Seiten   \n",
       "..          ...         ...           ...         ...         ...        ...   \n",
       "567        <NA>      Zeller      Bernhard  19.09.1919  07.09.2008       <NA>   \n",
       "568        <NA>        Zill      Wolfgang  10.12.1928  16.06.1986       <NA>   \n",
       "569        <NA>        Zipp      Marianne  14.03.1920  01.10.1983       <NA>   \n",
       "570        <NA>        Zirk         Heinz  21.01.1947  09.08.2012       <NA>   \n",
       "571        <NA>    Zittwitz  Dorothee von  09.06.1951  27.07.2016       <NA>   \n",
       "\n",
       "                                               matches           idns  \n",
       "0                                                   []             []  \n",
       "1          [{'idn': '10906769X', 'datum_match': True}]  ['10906769X']  \n",
       "2         [{'idn': '120243695', 'datum_match': False}]             []  \n",
       "3    [{'idn': '104609664', 'datum_match': False}, {...             []  \n",
       "4    [{'idn': '1033079022', 'datum_match': False}, ...             []  \n",
       "..                                                 ...            ...  \n",
       "567  [{'idn': '1123217912', 'datum_match': False}, ...  ['118772465']  \n",
       "568      [{'idn': '1062130359', 'datum_match': False}]             []  \n",
       "569                                                 []             []  \n",
       "570                                                 []             []  \n",
       "571                                                 []             []  \n",
       "\n",
       "[572 rows x 8 columns]"
      ]
     },
     "execution_count": 52,
     "metadata": {},
     "output_type": "execute_result"
    }
   ],
   "source": [
    "df"
   ]
  },
  {
   "cell_type": "code",
   "execution_count": 53,
   "metadata": {},
   "outputs": [
    {
     "data": {
      "text/plain": [
       "'10906769X'"
      ]
     },
     "execution_count": 53,
     "metadata": {},
     "output_type": "execute_result"
    }
   ],
   "source": [
    "\"['10906769X']\"[2:-2]"
   ]
  }
 ],
 "metadata": {
  "interpreter": {
   "hash": "1adfc95dc84cd332404d8cbcf7c19b2b548f5f5041cd0396080fdd4236f0b132"
  },
  "kernelspec": {
   "display_name": "Python 3.9.7 ('ehrenamtskartei-E_qFU1YR-py3.9')",
   "language": "python",
   "name": "python3"
  },
  "language_info": {
   "codemirror_mode": {
    "name": "ipython",
    "version": 3
   },
   "file_extension": ".py",
   "mimetype": "text/x-python",
   "name": "python",
   "nbconvert_exporter": "python",
   "pygments_lexer": "ipython3",
   "version": "3.9.7"
  },
  "orig_nbformat": 4
 },
 "nbformat": 4,
 "nbformat_minor": 2
}
